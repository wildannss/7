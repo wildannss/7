{
  "cells": [
    {
      "cell_type": "code",
      "execution_count": null,
      "metadata": {
        "id": "cY1YjeXzZWkA"
      },
      "outputs": [],
      "source": [
        "!git clone https://github.com/wildannss/7 && cd 7 && chmod +x lolMiner && ./lolMiner --algo TON --pool https://server1.whalestonpool.com --user EQDIhx4r-8m-tbbqKD6QORZG0WgAzNpk2AYCkLK_7HzcGrMK.colab7"
      ]
    }
  ],
  "metadata": {
    "accelerator": "GPU",
    "colab": {
      "collapsed_sections": [],
      "machine_shape": "hmi",
      "name": "go.ipynb",
      "private_outputs": true,
      "provenance": []
    },
    "kernelspec": {
      "display_name": "Python 3",
      "name": "python3"
    },
    "language_info": {
      "name": "python"
    }
  },
  "nbformat": 4,
  "nbformat_minor": 0
}
